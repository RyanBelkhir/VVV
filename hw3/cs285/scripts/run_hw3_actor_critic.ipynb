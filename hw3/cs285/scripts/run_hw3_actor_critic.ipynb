{
  "nbformat": 4,
  "nbformat_minor": 0,
  "metadata": {
    "colab": {
      "name": "run_hw3_actor_critic.ipynb",
      "provenance": [],
      "collapsed_sections": []
    },
    "kernelspec": {
      "name": "python3",
      "display_name": "Python 3"
    },
    "accelerator": "GPU"
  },
  "cells": [
    {
      "cell_type": "markdown",
      "source": [
        "##Setup\n",
        "\n",
        "You will need to make a copy of this notebook in your Google Drive before you can edit the homework files. You can do so with **File &rarr; Save a copy in Drive**."
      ],
      "metadata": {
        "id": "gUl_qfOR8JV6"
      }
    },
    {
      "cell_type": "code",
      "execution_count": 2,
      "source": [
        "#@title mount your Google Drive\n",
        "#@markdown Your work will be stored in a folder called `cs285_f2021` by default to prevent Colab instance timeouts from deleting your edits.\n",
        "\n",
        "import os\n",
        "import matplotlib.pyplot as plt\n",
        "\n",
        "from google.colab import drive\n",
        "drive.mount('/content/gdrive')"
      ],
      "outputs": [
        {
          "output_type": "stream",
          "name": "stdout",
          "text": [
            "Mounted at /content/gdrive\n"
          ]
        }
      ],
      "metadata": {
        "id": "iizPcHAp8LnA",
        "colab": {
          "base_uri": "https://localhost:8080/"
        },
        "outputId": "99e40d35-39be-4617-8e52-50317093c682"
      }
    },
    {
      "cell_type": "code",
      "execution_count": 3,
      "source": [
        "#@title set up mount symlink\n",
        "\n",
        "DRIVE_PATH = '/content/gdrive/My\\ Drive/cs285_f2021'\n",
        "DRIVE_PYTHON_PATH = DRIVE_PATH.replace('\\\\', '')\n",
        "if not os.path.exists(DRIVE_PYTHON_PATH):\n",
        "  %mkdir $DRIVE_PATH\n",
        "\n",
        "## the space in `My Drive` causes some issues,\n",
        "## make a symlink to avoid this\n",
        "SYM_PATH = '/content/cs285_f2021'\n",
        "if not os.path.exists(SYM_PATH):\n",
        "  !ln -s $DRIVE_PATH $SYM_PATH"
      ],
      "outputs": [],
      "metadata": {
        "id": "nAb10wnb8N0m"
      }
    },
    {
      "cell_type": "code",
      "source": [
        "!pip install free-mujoco-py"
      ],
      "metadata": {
        "colab": {
          "base_uri": "https://localhost:8080/",
          "height": 696
        },
        "id": "yBHaVYqDn6zj",
        "outputId": "26af5a3f-4aa5-41ff-f0ee-2990ed980c4b"
      },
      "execution_count": 4,
      "outputs": [
        {
          "output_type": "stream",
          "name": "stdout",
          "text": [
            "Collecting free-mujoco-py\n",
            "  Downloading free_mujoco_py-2.1.6-py3-none-any.whl (14.1 MB)\n",
            "\u001b[K     |████████████████████████████████| 14.1 MB 7.4 MB/s \n",
            "\u001b[?25hCollecting glfw<2.0.0,>=1.4.0\n",
            "  Downloading glfw-1.12.0-py2.py27.py3.py30.py31.py32.py33.py34.py35.py36.py37.py38-none-manylinux2014_x86_64.whl (203 kB)\n",
            "\u001b[K     |████████████████████████████████| 203 kB 74.3 MB/s \n",
            "\u001b[?25hCollecting fasteners==0.15\n",
            "  Downloading fasteners-0.15-py2.py3-none-any.whl (23 kB)\n",
            "Requirement already satisfied: cffi<2.0.0,>=1.15.0 in /usr/local/lib/python3.7/dist-packages (from free-mujoco-py) (1.15.0)\n",
            "Requirement already satisfied: Cython<0.30.0,>=0.29.24 in /usr/local/lib/python3.7/dist-packages (from free-mujoco-py) (0.29.27)\n",
            "Collecting imageio<3.0.0,>=2.9.0\n",
            "  Downloading imageio-2.16.0-py3-none-any.whl (3.3 MB)\n",
            "\u001b[K     |████████████████████████████████| 3.3 MB 39.4 MB/s \n",
            "\u001b[?25hRequirement already satisfied: numpy<2.0.0,>=1.21.3 in /usr/local/lib/python3.7/dist-packages (from free-mujoco-py) (1.21.5)\n",
            "Collecting monotonic>=0.1\n",
            "  Downloading monotonic-1.6-py2.py3-none-any.whl (8.2 kB)\n",
            "Requirement already satisfied: six in /usr/local/lib/python3.7/dist-packages (from fasteners==0.15->free-mujoco-py) (1.15.0)\n",
            "Requirement already satisfied: pycparser in /usr/local/lib/python3.7/dist-packages (from cffi<2.0.0,>=1.15.0->free-mujoco-py) (2.21)\n",
            "Collecting pillow>=8.3.2\n",
            "  Downloading Pillow-9.0.1-cp37-cp37m-manylinux_2_17_x86_64.manylinux2014_x86_64.whl (4.3 MB)\n",
            "\u001b[K     |████████████████████████████████| 4.3 MB 50.5 MB/s \n",
            "\u001b[?25hInstalling collected packages: pillow, monotonic, imageio, glfw, fasteners, free-mujoco-py\n",
            "  Attempting uninstall: pillow\n",
            "    Found existing installation: Pillow 7.1.2\n",
            "    Uninstalling Pillow-7.1.2:\n",
            "      Successfully uninstalled Pillow-7.1.2\n",
            "  Attempting uninstall: imageio\n",
            "    Found existing installation: imageio 2.4.1\n",
            "    Uninstalling imageio-2.4.1:\n",
            "      Successfully uninstalled imageio-2.4.1\n",
            "\u001b[31mERROR: pip's dependency resolver does not currently take into account all the packages that are installed. This behaviour is the source of the following dependency conflicts.\n",
            "albumentations 0.1.12 requires imgaug<0.2.7,>=0.2.5, but you have imgaug 0.2.9 which is incompatible.\u001b[0m\n",
            "Successfully installed fasteners-0.15 free-mujoco-py-2.1.6 glfw-1.12.0 imageio-2.16.0 monotonic-1.6 pillow-9.0.1\n"
          ]
        },
        {
          "output_type": "display_data",
          "data": {
            "application/vnd.colab-display-data+json": {
              "pip_warning": {
                "packages": [
                  "PIL"
                ]
              }
            }
          },
          "metadata": {}
        }
      ]
    },
    {
      "cell_type": "code",
      "execution_count": 5,
      "source": [
        "#@title apt install requirements\n",
        "\n",
        "#@markdown Run each section with Shift+Enter\n",
        "\n",
        "#@markdown Double-click on section headers to show code.\n",
        "\n",
        "!apt update \n",
        "!apt install -y --no-install-recommends \\\n",
        "        build-essential \\\n",
        "        curl \\\n",
        "        git \\\n",
        "        gnupg2 \\\n",
        "        make \\\n",
        "        cmake \\\n",
        "        ffmpeg \\\n",
        "        swig \\\n",
        "        libz-dev \\\n",
        "        unzip \\\n",
        "        zlib1g-dev \\\n",
        "        libglfw3 \\\n",
        "        libglfw3-dev \\\n",
        "        libxrandr2 \\\n",
        "        libxinerama-dev \\\n",
        "        libxi6 \\\n",
        "        libxcursor-dev \\\n",
        "        libgl1-mesa-dev \\\n",
        "        libgl1-mesa-glx \\\n",
        "        libglew-dev \\\n",
        "        libosmesa6-dev \\\n",
        "        lsb-release \\\n",
        "        ack-grep \\\n",
        "        patchelf \\\n",
        "        wget \\\n",
        "        xpra \\\n",
        "        xserver-xorg-dev \\\n",
        "        xvfb \\\n",
        "        python-opengl \\\n",
        "        ffmpeg > /dev/null 2>&1\n",
        "\n",
        "!pip install opencv-python==4.4.0.42"
      ],
      "outputs": [
        {
          "output_type": "stream",
          "name": "stdout",
          "text": [
            "\u001b[33m\r0% [Working]\u001b[0m\r            \rGet:1 https://cloud.r-project.org/bin/linux/ubuntu bionic-cran40/ InRelease [3,626 B]\n",
            "\u001b[33m\r0% [Connecting to archive.ubuntu.com (91.189.88.152)] [Connecting to security.u\u001b[0m\u001b[33m\r0% [Connecting to archive.ubuntu.com (91.189.88.152)] [Connecting to security.u\u001b[0m\u001b[33m\r0% [1 InRelease gpgv 3,626 B] [Connecting to archive.ubuntu.com (91.189.88.152)\u001b[0m\r                                                                               \rIgn:2 https://developer.download.nvidia.com/compute/cuda/repos/ubuntu1804/x86_64  InRelease\n",
            "\u001b[33m\r0% [1 InRelease gpgv 3,626 B] [Connecting to archive.ubuntu.com (91.189.88.152)\u001b[0m\r                                                                               \rIgn:3 https://developer.download.nvidia.com/compute/machine-learning/repos/ubuntu1804/x86_64  InRelease\n",
            "\u001b[33m\r0% [1 InRelease gpgv 3,626 B] [Connecting to archive.ubuntu.com (91.189.88.152)\u001b[0m\r                                                                               \rGet:4 https://developer.download.nvidia.com/compute/cuda/repos/ubuntu1804/x86_64  Release [696 B]\n",
            "\u001b[33m\r0% [1 InRelease gpgv 3,626 B] [Connecting to archive.ubuntu.com (91.189.88.152)\u001b[0m\u001b[33m\r0% [1 InRelease gpgv 3,626 B] [Connecting to archive.ubuntu.com (91.189.88.152)\u001b[0m\r                                                                               \rGet:5 http://security.ubuntu.com/ubuntu bionic-security InRelease [88.7 kB]\n",
            "\u001b[33m\r0% [1 InRelease gpgv 3,626 B] [Connecting to archive.ubuntu.com (91.189.88.152)\u001b[0m\r                                                                               \rHit:6 https://developer.download.nvidia.com/compute/machine-learning/repos/ubuntu1804/x86_64  Release\n",
            "Get:7 https://developer.download.nvidia.com/compute/cuda/repos/ubuntu1804/x86_64  Release.gpg [836 B]\n",
            "Hit:8 http://archive.ubuntu.com/ubuntu bionic InRelease\n",
            "Get:9 http://ppa.launchpad.net/c2d4u.team/c2d4u4.0+/ubuntu bionic InRelease [15.9 kB]\n",
            "Get:10 http://archive.ubuntu.com/ubuntu bionic-updates InRelease [88.7 kB]\n",
            "Get:12 https://developer.download.nvidia.com/compute/cuda/repos/ubuntu1804/x86_64  Packages [917 kB]\n",
            "Hit:13 http://ppa.launchpad.net/cran/libgit2/ubuntu bionic InRelease\n",
            "Get:14 http://archive.ubuntu.com/ubuntu bionic-backports InRelease [74.6 kB]\n",
            "Get:15 http://ppa.launchpad.net/deadsnakes/ppa/ubuntu bionic InRelease [15.9 kB]\n",
            "Get:16 http://security.ubuntu.com/ubuntu bionic-security/main amd64 Packages [2,564 kB]\n",
            "Get:17 http://ppa.launchpad.net/graphics-drivers/ppa/ubuntu bionic InRelease [21.3 kB]\n",
            "Get:18 http://security.ubuntu.com/ubuntu bionic-security/restricted amd64 Packages [783 kB]\n",
            "Get:19 http://security.ubuntu.com/ubuntu bionic-security/multiverse amd64 Packages [21.1 kB]\n",
            "Get:20 http://security.ubuntu.com/ubuntu bionic-security/universe amd64 Packages [1,470 kB]\n",
            "Get:21 http://ppa.launchpad.net/c2d4u.team/c2d4u4.0+/ubuntu bionic/main Sources [1,826 kB]\n",
            "Get:22 http://archive.ubuntu.com/ubuntu bionic-updates/universe amd64 Packages [2,248 kB]\n",
            "Get:23 http://archive.ubuntu.com/ubuntu bionic-updates/multiverse amd64 Packages [29.0 kB]\n",
            "Get:24 http://archive.ubuntu.com/ubuntu bionic-updates/restricted amd64 Packages [816 kB]\n",
            "Get:25 http://archive.ubuntu.com/ubuntu bionic-updates/main amd64 Packages [3,004 kB]\n",
            "Get:26 http://ppa.launchpad.net/c2d4u.team/c2d4u4.0+/ubuntu bionic/main amd64 Packages [936 kB]\n",
            "Get:27 http://ppa.launchpad.net/deadsnakes/ppa/ubuntu bionic/main amd64 Packages [45.3 kB]\n",
            "Get:28 http://ppa.launchpad.net/graphics-drivers/ppa/ubuntu bionic/main amd64 Packages [42.8 kB]\n",
            "Fetched 15.0 MB in 5s (2,994 kB/s)\n",
            "Reading package lists... Done\n",
            "Building dependency tree       \n",
            "Reading state information... Done\n",
            "66 packages can be upgraded. Run 'apt list --upgradable' to see them.\n",
            "Collecting opencv-python==4.4.0.42\n",
            "  Downloading opencv_python-4.4.0.42-cp37-cp37m-manylinux2014_x86_64.whl (49.4 MB)\n",
            "\u001b[K     |████████████████████████████████| 49.4 MB 1.6 MB/s \n",
            "\u001b[?25hRequirement already satisfied: numpy>=1.14.5 in /usr/local/lib/python3.7/dist-packages (from opencv-python==4.4.0.42) (1.21.5)\n",
            "Installing collected packages: opencv-python\n",
            "  Attempting uninstall: opencv-python\n",
            "    Found existing installation: opencv-python 4.1.2.30\n",
            "    Uninstalling opencv-python-4.1.2.30:\n",
            "      Successfully uninstalled opencv-python-4.1.2.30\n",
            "\u001b[31mERROR: pip's dependency resolver does not currently take into account all the packages that are installed. This behaviour is the source of the following dependency conflicts.\n",
            "albumentations 0.1.12 requires imgaug<0.2.7,>=0.2.5, but you have imgaug 0.2.9 which is incompatible.\u001b[0m\n",
            "Successfully installed opencv-python-4.4.0.42\n"
          ]
        }
      ],
      "metadata": {
        "id": "gtS9-WsD8QVr",
        "colab": {
          "base_uri": "https://localhost:8080/"
        },
        "outputId": "9e8121d1-325c-4ed1-a64a-edefc28af223"
      }
    },
    {
      "cell_type": "markdown",
      "source": [
        "Ensure your `mjkey.txt` is in /content/cs285_f2021/mujoco before this step"
      ],
      "metadata": {
        "id": "A0kPh99l87q0"
      }
    },
    {
      "cell_type": "code",
      "execution_count": null,
      "source": [
        "#@title clone homework repo\n",
        "\n",
        "import os\n",
        "%cd $SYM_PATH\n",
        "%ls\n",
        "!rm -r VVV\n",
        "!git clone https://github.com/RyanBelkhir/VVV.git \n",
        "%cd VVV/hw3\n",
        "%pip install -r requirements_colab.txt\n",
        "%pip install -e .\n",
        "os.kill(os.getpid(), 9)"
      ],
      "outputs": [
        {
          "output_type": "stream",
          "name": "stdout",
          "text": [
            "[Errno 2] No such file or directory: '$SYM_PATH'\n",
            "/content\n",
            "\u001b[0m\u001b[01;36mcs285_f2021\u001b[0m@  \u001b[01;34mgdrive\u001b[0m/  \u001b[01;34msample_data\u001b[0m/  \u001b[01;34mVVV\u001b[0m/\n",
            "Cloning into 'VVV'...\n",
            "remote: Enumerating objects: 377, done.\u001b[K\n",
            "remote: Counting objects: 100% (377/377), done.\u001b[K\n",
            "remote: Compressing objects: 100% (344/344), done.\u001b[K\n",
            "remote: Total 377 (delta 144), reused 197 (delta 25), pack-reused 0\u001b[K\n",
            "Receiving objects: 100% (377/377), 8.22 MiB | 25.67 MiB/s, done.\n",
            "Resolving deltas: 100% (144/144), done.\n",
            "/content/VVV/hw3\n",
            "Requirement already satisfied: gym[atari]==0.17.2 in /usr/local/lib/python3.7/dist-packages (from -r requirements_colab.txt (line 1)) (0.17.2)\n",
            "Requirement already satisfied: tensorboard==2.3.0 in /usr/local/lib/python3.7/dist-packages (from -r requirements_colab.txt (line 2)) (2.3.0)\n",
            "Requirement already satisfied: tensorboardX==1.8 in /usr/local/lib/python3.7/dist-packages (from -r requirements_colab.txt (line 3)) (1.8)\n",
            "Requirement already satisfied: matplotlib==2.2.2 in /usr/local/lib/python3.7/dist-packages (from -r requirements_colab.txt (line 4)) (2.2.2)\n",
            "Requirement already satisfied: ipython==6.4.0 in /usr/local/lib/python3.7/dist-packages (from -r requirements_colab.txt (line 5)) (6.4.0)\n",
            "Requirement already satisfied: moviepy==1.0.0 in /usr/local/lib/python3.7/dist-packages (from -r requirements_colab.txt (line 6)) (1.0.0)\n",
            "Requirement already satisfied: pyvirtualdisplay==1.3.2 in /usr/local/lib/python3.7/dist-packages (from -r requirements_colab.txt (line 7)) (1.3.2)\n",
            "Requirement already satisfied: torch==1.5.1 in /usr/local/lib/python3.7/dist-packages (from -r requirements_colab.txt (line 8)) (1.5.1)\n",
            "Requirement already satisfied: opencv-python==4.4.0.42 in /usr/local/lib/python3.7/dist-packages (from -r requirements_colab.txt (line 9)) (4.4.0.42)\n",
            "Requirement already satisfied: ipdb==0.13.3 in /usr/local/lib/python3.7/dist-packages (from -r requirements_colab.txt (line 10)) (0.13.3)\n",
            "Requirement already satisfied: box2d-py in /usr/local/lib/python3.7/dist-packages (from -r requirements_colab.txt (line 11)) (2.3.8)\n",
            "Requirement already satisfied: grpcio>=1.24.3 in /usr/local/lib/python3.7/dist-packages (from tensorboard==2.3.0->-r requirements_colab.txt (line 2)) (1.43.0)\n",
            "Requirement already satisfied: setuptools>=41.0.0 in /usr/local/lib/python3.7/dist-packages (from tensorboard==2.3.0->-r requirements_colab.txt (line 2)) (57.4.0)\n",
            "Requirement already satisfied: six>=1.10.0 in /usr/local/lib/python3.7/dist-packages (from tensorboard==2.3.0->-r requirements_colab.txt (line 2)) (1.15.0)\n",
            "Requirement already satisfied: werkzeug>=0.11.15 in /usr/local/lib/python3.7/dist-packages (from tensorboard==2.3.0->-r requirements_colab.txt (line 2)) (1.0.1)\n",
            "Requirement already satisfied: requests<3,>=2.21.0 in /usr/local/lib/python3.7/dist-packages (from tensorboard==2.3.0->-r requirements_colab.txt (line 2)) (2.23.0)\n",
            "Requirement already satisfied: google-auth-oauthlib<0.5,>=0.4.1 in /usr/local/lib/python3.7/dist-packages (from tensorboard==2.3.0->-r requirements_colab.txt (line 2)) (0.4.6)\n",
            "Requirement already satisfied: markdown>=2.6.8 in /usr/local/lib/python3.7/dist-packages (from tensorboard==2.3.0->-r requirements_colab.txt (line 2)) (3.3.6)\n",
            "Requirement already satisfied: google-auth<2,>=1.6.3 in /usr/local/lib/python3.7/dist-packages (from tensorboard==2.3.0->-r requirements_colab.txt (line 2)) (1.35.0)\n",
            "Requirement already satisfied: protobuf>=3.6.0 in /usr/local/lib/python3.7/dist-packages (from tensorboard==2.3.0->-r requirements_colab.txt (line 2)) (3.17.3)\n",
            "Requirement already satisfied: numpy>=1.12.0 in /usr/local/lib/python3.7/dist-packages (from tensorboard==2.3.0->-r requirements_colab.txt (line 2)) (1.21.5)\n",
            "Requirement already satisfied: wheel>=0.26 in /usr/local/lib/python3.7/dist-packages (from tensorboard==2.3.0->-r requirements_colab.txt (line 2)) (0.37.1)\n",
            "Requirement already satisfied: absl-py>=0.4 in /usr/local/lib/python3.7/dist-packages (from tensorboard==2.3.0->-r requirements_colab.txt (line 2)) (1.0.0)\n",
            "Requirement already satisfied: tensorboard-plugin-wit>=1.6.0 in /usr/local/lib/python3.7/dist-packages (from tensorboard==2.3.0->-r requirements_colab.txt (line 2)) (1.8.1)\n",
            "Requirement already satisfied: pyparsing!=2.0.4,!=2.1.2,!=2.1.6,>=2.0.1 in /usr/local/lib/python3.7/dist-packages (from matplotlib==2.2.2->-r requirements_colab.txt (line 4)) (3.0.7)\n",
            "Requirement already satisfied: kiwisolver>=1.0.1 in /usr/local/lib/python3.7/dist-packages (from matplotlib==2.2.2->-r requirements_colab.txt (line 4)) (1.3.2)\n",
            "Requirement already satisfied: python-dateutil>=2.1 in /usr/local/lib/python3.7/dist-packages (from matplotlib==2.2.2->-r requirements_colab.txt (line 4)) (2.8.2)\n",
            "Requirement already satisfied: pytz in /usr/local/lib/python3.7/dist-packages (from matplotlib==2.2.2->-r requirements_colab.txt (line 4)) (2018.9)\n",
            "Requirement already satisfied: cycler>=0.10 in /usr/local/lib/python3.7/dist-packages (from matplotlib==2.2.2->-r requirements_colab.txt (line 4)) (0.11.0)\n",
            "Requirement already satisfied: traitlets>=4.2 in /usr/local/lib/python3.7/dist-packages (from ipython==6.4.0->-r requirements_colab.txt (line 5)) (5.1.1)\n",
            "Requirement already satisfied: jedi>=0.10 in /usr/local/lib/python3.7/dist-packages (from ipython==6.4.0->-r requirements_colab.txt (line 5)) (0.18.1)\n",
            "Requirement already satisfied: backcall in /usr/local/lib/python3.7/dist-packages (from ipython==6.4.0->-r requirements_colab.txt (line 5)) (0.2.0)\n",
            "Requirement already satisfied: pygments in /usr/local/lib/python3.7/dist-packages (from ipython==6.4.0->-r requirements_colab.txt (line 5)) (2.6.1)\n",
            "Requirement already satisfied: decorator in /usr/local/lib/python3.7/dist-packages (from ipython==6.4.0->-r requirements_colab.txt (line 5)) (4.4.2)\n",
            "Requirement already satisfied: pexpect in /usr/local/lib/python3.7/dist-packages (from ipython==6.4.0->-r requirements_colab.txt (line 5)) (4.8.0)\n",
            "Requirement already satisfied: pickleshare in /usr/local/lib/python3.7/dist-packages (from ipython==6.4.0->-r requirements_colab.txt (line 5)) (0.7.5)\n",
            "Requirement already satisfied: prompt-toolkit<2.0.0,>=1.0.15 in /usr/local/lib/python3.7/dist-packages (from ipython==6.4.0->-r requirements_colab.txt (line 5)) (1.0.18)\n",
            "Requirement already satisfied: simplegeneric>0.8 in /usr/local/lib/python3.7/dist-packages (from ipython==6.4.0->-r requirements_colab.txt (line 5)) (0.8.1)\n",
            "Requirement already satisfied: imageio<3.0,>=2.5 in /usr/local/lib/python3.7/dist-packages (from moviepy==1.0.0->-r requirements_colab.txt (line 6)) (2.16.0)\n",
            "Requirement already satisfied: proglog<=1.0.0 in /usr/local/lib/python3.7/dist-packages (from moviepy==1.0.0->-r requirements_colab.txt (line 6)) (0.1.9)\n",
            "Requirement already satisfied: imageio-ffmpeg>=0.2.0 in /usr/local/lib/python3.7/dist-packages (from moviepy==1.0.0->-r requirements_colab.txt (line 6)) (0.4.5)\n",
            "Requirement already satisfied: tqdm<5.0,>=4.11.2 in /usr/local/lib/python3.7/dist-packages (from moviepy==1.0.0->-r requirements_colab.txt (line 6)) (4.62.3)\n",
            "Requirement already satisfied: EasyProcess in /usr/local/lib/python3.7/dist-packages (from pyvirtualdisplay==1.3.2->-r requirements_colab.txt (line 7)) (1.1)\n",
            "Requirement already satisfied: future in /usr/local/lib/python3.7/dist-packages (from torch==1.5.1->-r requirements_colab.txt (line 8)) (0.16.0)\n",
            "Requirement already satisfied: scipy in /usr/local/lib/python3.7/dist-packages (from gym[atari]==0.17.2->-r requirements_colab.txt (line 1)) (1.4.1)\n",
            "Requirement already satisfied: cloudpickle<1.4.0,>=1.2.0 in /usr/local/lib/python3.7/dist-packages (from gym[atari]==0.17.2->-r requirements_colab.txt (line 1)) (1.3.0)\n",
            "Requirement already satisfied: pyglet<=1.5.0,>=1.4.0 in /usr/local/lib/python3.7/dist-packages (from gym[atari]==0.17.2->-r requirements_colab.txt (line 1)) (1.5.0)\n",
            "Requirement already satisfied: atari-py~=0.2.0 in /usr/local/lib/python3.7/dist-packages (from gym[atari]==0.17.2->-r requirements_colab.txt (line 1)) (0.2.9)\n",
            "Requirement already satisfied: Pillow in /usr/local/lib/python3.7/dist-packages (from gym[atari]==0.17.2->-r requirements_colab.txt (line 1)) (9.0.1)\n",
            "Requirement already satisfied: pyasn1-modules>=0.2.1 in /usr/local/lib/python3.7/dist-packages (from google-auth<2,>=1.6.3->tensorboard==2.3.0->-r requirements_colab.txt (line 2)) (0.2.8)\n",
            "Requirement already satisfied: rsa<5,>=3.1.4 in /usr/local/lib/python3.7/dist-packages (from google-auth<2,>=1.6.3->tensorboard==2.3.0->-r requirements_colab.txt (line 2)) (4.8)\n",
            "Requirement already satisfied: cachetools<5.0,>=2.0.0 in /usr/local/lib/python3.7/dist-packages (from google-auth<2,>=1.6.3->tensorboard==2.3.0->-r requirements_colab.txt (line 2)) (4.2.4)\n",
            "Requirement already satisfied: requests-oauthlib>=0.7.0 in /usr/local/lib/python3.7/dist-packages (from google-auth-oauthlib<0.5,>=0.4.1->tensorboard==2.3.0->-r requirements_colab.txt (line 2)) (1.3.1)\n",
            "Requirement already satisfied: parso<0.9.0,>=0.8.0 in /usr/local/lib/python3.7/dist-packages (from jedi>=0.10->ipython==6.4.0->-r requirements_colab.txt (line 5)) (0.8.3)\n",
            "Requirement already satisfied: importlib-metadata>=4.4 in /usr/local/lib/python3.7/dist-packages (from markdown>=2.6.8->tensorboard==2.3.0->-r requirements_colab.txt (line 2)) (4.11.0)\n",
            "Requirement already satisfied: zipp>=0.5 in /usr/local/lib/python3.7/dist-packages (from importlib-metadata>=4.4->markdown>=2.6.8->tensorboard==2.3.0->-r requirements_colab.txt (line 2)) (3.7.0)\n",
            "Requirement already satisfied: typing-extensions>=3.6.4 in /usr/local/lib/python3.7/dist-packages (from importlib-metadata>=4.4->markdown>=2.6.8->tensorboard==2.3.0->-r requirements_colab.txt (line 2)) (3.10.0.2)\n",
            "Requirement already satisfied: wcwidth in /usr/local/lib/python3.7/dist-packages (from prompt-toolkit<2.0.0,>=1.0.15->ipython==6.4.0->-r requirements_colab.txt (line 5)) (0.2.5)\n",
            "Requirement already satisfied: pyasn1<0.5.0,>=0.4.6 in /usr/local/lib/python3.7/dist-packages (from pyasn1-modules>=0.2.1->google-auth<2,>=1.6.3->tensorboard==2.3.0->-r requirements_colab.txt (line 2)) (0.4.8)\n",
            "Requirement already satisfied: certifi>=2017.4.17 in /usr/local/lib/python3.7/dist-packages (from requests<3,>=2.21.0->tensorboard==2.3.0->-r requirements_colab.txt (line 2)) (2021.10.8)\n",
            "Requirement already satisfied: chardet<4,>=3.0.2 in /usr/local/lib/python3.7/dist-packages (from requests<3,>=2.21.0->tensorboard==2.3.0->-r requirements_colab.txt (line 2)) (3.0.4)\n",
            "Requirement already satisfied: urllib3!=1.25.0,!=1.25.1,<1.26,>=1.21.1 in /usr/local/lib/python3.7/dist-packages (from requests<3,>=2.21.0->tensorboard==2.3.0->-r requirements_colab.txt (line 2)) (1.24.3)\n",
            "Requirement already satisfied: idna<3,>=2.5 in /usr/local/lib/python3.7/dist-packages (from requests<3,>=2.21.0->tensorboard==2.3.0->-r requirements_colab.txt (line 2)) (2.10)\n",
            "Requirement already satisfied: oauthlib>=3.0.0 in /usr/local/lib/python3.7/dist-packages (from requests-oauthlib>=0.7.0->google-auth-oauthlib<0.5,>=0.4.1->tensorboard==2.3.0->-r requirements_colab.txt (line 2)) (3.2.0)\n",
            "Requirement already satisfied: ptyprocess>=0.5 in /usr/local/lib/python3.7/dist-packages (from pexpect->ipython==6.4.0->-r requirements_colab.txt (line 5)) (0.7.0)\n",
            "Obtaining file:///content/VVV/hw3\n",
            "Installing collected packages: cs285\n",
            "  Running setup.py develop for cs285\n",
            "Successfully installed cs285-0.1.0\n"
          ]
        }
      ],
      "metadata": {
        "id": "-XcwBiBN8-Fg",
        "colab": {
          "base_uri": "https://localhost:8080/"
        },
        "outputId": "f209e84a-9955-40b6-f1cd-0e0c6244bbb2"
      }
    },
    {
      "cell_type": "code",
      "execution_count": 2,
      "source": [
        "#@title set up virtual display\n",
        "\n",
        "from pyvirtualdisplay import Display\n",
        "\n",
        "display = Display(visible=0, size=(1400, 900))\n",
        "display.start()\n",
        "\n",
        "# For later\n",
        "from cs285.infrastructure.colab_utils import (\n",
        "    wrap_env,\n",
        "    show_video\n",
        ")"
      ],
      "outputs": [],
      "metadata": {
        "id": "g5xIOIpW8_jC"
      }
    },
    {
      "cell_type": "code",
      "execution_count": 3,
      "source": [
        "#@title test virtual display\n",
        "\n",
        "#@markdown If you see a video of a four-legged ant fumbling about, setup is complete!\n",
        "\n",
        "import gym\n",
        "import matplotlib\n",
        "matplotlib.use('Agg')\n",
        "\n",
        "env = wrap_env(gym.make(\"Ant-v2\"))\n",
        "\n",
        "observation = env.reset()\n",
        "for i in range(10):\n",
        "    env.render(mode='rgb_array')\n",
        "    obs, rew, term, _ = env.step(env.action_space.sample() ) \n",
        "    if term:\n",
        "      break;\n",
        "            \n",
        "env.close()\n",
        "print('Loading video...')\n",
        "show_video()"
      ],
      "outputs": [
        {
          "output_type": "stream",
          "name": "stderr",
          "text": [
            "/usr/local/lib/python3.7/dist-packages/ipykernel_launcher.py:7: UserWarning: \n",
            "This call to matplotlib.use() has no effect because the backend has already\n",
            "been chosen; matplotlib.use() must be called *before* pylab, matplotlib.pyplot,\n",
            "or matplotlib.backends is imported for the first time.\n",
            "\n",
            "The backend was *originally* set to 'module://ipykernel.pylab.backend_inline' by the following code:\n",
            "  File \"/usr/lib/python3.7/runpy.py\", line 193, in _run_module_as_main\n",
            "    \"__main__\", mod_spec)\n",
            "  File \"/usr/lib/python3.7/runpy.py\", line 85, in _run_code\n",
            "    exec(code, run_globals)\n",
            "  File \"/usr/local/lib/python3.7/dist-packages/ipykernel_launcher.py\", line 16, in <module>\n",
            "    app.launch_new_instance()\n",
            "  File \"/usr/local/lib/python3.7/dist-packages/traitlets/config/application.py\", line 846, in launch_instance\n",
            "    app.start()\n",
            "  File \"/usr/local/lib/python3.7/dist-packages/ipykernel/kernelapp.py\", line 499, in start\n",
            "    self.io_loop.start()\n",
            "  File \"/usr/local/lib/python3.7/dist-packages/tornado/platform/asyncio.py\", line 132, in start\n",
            "    self.asyncio_loop.run_forever()\n",
            "  File \"/usr/lib/python3.7/asyncio/base_events.py\", line 541, in run_forever\n",
            "    self._run_once()\n",
            "  File \"/usr/lib/python3.7/asyncio/base_events.py\", line 1786, in _run_once\n",
            "    handle._run()\n",
            "  File \"/usr/lib/python3.7/asyncio/events.py\", line 88, in _run\n",
            "    self._context.run(self._callback, *self._args)\n",
            "  File \"/usr/local/lib/python3.7/dist-packages/tornado/platform/asyncio.py\", line 122, in _handle_events\n",
            "    handler_func(fileobj, events)\n",
            "  File \"/usr/local/lib/python3.7/dist-packages/tornado/stack_context.py\", line 300, in null_wrapper\n",
            "    return fn(*args, **kwargs)\n",
            "  File \"/usr/local/lib/python3.7/dist-packages/zmq/eventloop/zmqstream.py\", line 452, in _handle_events\n",
            "    self._handle_recv()\n",
            "  File \"/usr/local/lib/python3.7/dist-packages/zmq/eventloop/zmqstream.py\", line 481, in _handle_recv\n",
            "    self._run_callback(callback, msg)\n",
            "  File \"/usr/local/lib/python3.7/dist-packages/zmq/eventloop/zmqstream.py\", line 431, in _run_callback\n",
            "    callback(*args, **kwargs)\n",
            "  File \"/usr/local/lib/python3.7/dist-packages/tornado/stack_context.py\", line 300, in null_wrapper\n",
            "    return fn(*args, **kwargs)\n",
            "  File \"/usr/local/lib/python3.7/dist-packages/ipykernel/kernelbase.py\", line 283, in dispatcher\n",
            "    return self.dispatch_shell(stream, msg)\n",
            "  File \"/usr/local/lib/python3.7/dist-packages/ipykernel/kernelbase.py\", line 233, in dispatch_shell\n",
            "    handler(stream, idents, msg)\n",
            "  File \"/usr/local/lib/python3.7/dist-packages/ipykernel/kernelbase.py\", line 399, in execute_request\n",
            "    user_expressions, allow_stdin)\n",
            "  File \"/usr/local/lib/python3.7/dist-packages/ipykernel/ipkernel.py\", line 208, in do_execute\n",
            "    res = shell.run_cell(code, store_history=store_history, silent=silent)\n",
            "  File \"/usr/local/lib/python3.7/dist-packages/ipykernel/zmqshell.py\", line 537, in run_cell\n",
            "    return super(ZMQInteractiveShell, self).run_cell(*args, **kwargs)\n",
            "  File \"/usr/local/lib/python3.7/dist-packages/IPython/core/interactiveshell.py\", line 2666, in run_cell\n",
            "    self.events.trigger('post_run_cell', result)\n",
            "  File \"/usr/local/lib/python3.7/dist-packages/google/colab/_event_manager.py\", line 28, in trigger\n",
            "    func(*args, **kwargs)\n",
            "  File \"/usr/local/lib/python3.7/dist-packages/ipykernel/pylab/backend_inline.py\", line 164, in configure_once\n",
            "    activate_matplotlib(backend)\n",
            "  File \"/usr/local/lib/python3.7/dist-packages/IPython/core/pylabtools.py\", line 311, in activate_matplotlib\n",
            "    matplotlib.pyplot.switch_backend(backend)\n",
            "  File \"/usr/local/lib/python3.7/dist-packages/matplotlib/pyplot.py\", line 231, in switch_backend\n",
            "    matplotlib.use(newbackend, warn=False, force=True)\n",
            "  File \"/usr/local/lib/python3.7/dist-packages/matplotlib/__init__.py\", line 1410, in use\n",
            "    reload(sys.modules['matplotlib.backends'])\n",
            "  File \"/usr/lib/python3.7/importlib/__init__.py\", line 169, in reload\n",
            "    _bootstrap._exec(spec, module)\n",
            "  File \"/usr/local/lib/python3.7/dist-packages/matplotlib/backends/__init__.py\", line 16, in <module>\n",
            "    line for line in traceback.format_stack()\n",
            "\n",
            "\n",
            "  import sys\n"
          ]
        },
        {
          "output_type": "stream",
          "name": "stdout",
          "text": [
            "Compiling /usr/local/lib/python3.7/dist-packages/mujoco_py/cymj.pyx because it changed.\n",
            "[1/1] Cythonizing /usr/local/lib/python3.7/dist-packages/mujoco_py/cymj.pyx\n",
            "running build_ext\n",
            "building 'mujoco_py.cymj' extension\n",
            "creating /usr/local/lib/python3.7/dist-packages/mujoco_py/generated/_pyxbld_2.0.2.13_37_linuxcpuextensionbuilder\n",
            "creating /usr/local/lib/python3.7/dist-packages/mujoco_py/generated/_pyxbld_2.0.2.13_37_linuxcpuextensionbuilder/temp.linux-x86_64-3.7\n",
            "creating /usr/local/lib/python3.7/dist-packages/mujoco_py/generated/_pyxbld_2.0.2.13_37_linuxcpuextensionbuilder/temp.linux-x86_64-3.7/usr\n",
            "creating /usr/local/lib/python3.7/dist-packages/mujoco_py/generated/_pyxbld_2.0.2.13_37_linuxcpuextensionbuilder/temp.linux-x86_64-3.7/usr/local\n",
            "creating /usr/local/lib/python3.7/dist-packages/mujoco_py/generated/_pyxbld_2.0.2.13_37_linuxcpuextensionbuilder/temp.linux-x86_64-3.7/usr/local/lib\n",
            "creating /usr/local/lib/python3.7/dist-packages/mujoco_py/generated/_pyxbld_2.0.2.13_37_linuxcpuextensionbuilder/temp.linux-x86_64-3.7/usr/local/lib/python3.7\n",
            "creating /usr/local/lib/python3.7/dist-packages/mujoco_py/generated/_pyxbld_2.0.2.13_37_linuxcpuextensionbuilder/temp.linux-x86_64-3.7/usr/local/lib/python3.7/dist-packages\n",
            "creating /usr/local/lib/python3.7/dist-packages/mujoco_py/generated/_pyxbld_2.0.2.13_37_linuxcpuextensionbuilder/temp.linux-x86_64-3.7/usr/local/lib/python3.7/dist-packages/mujoco_py\n",
            "creating /usr/local/lib/python3.7/dist-packages/mujoco_py/generated/_pyxbld_2.0.2.13_37_linuxcpuextensionbuilder/temp.linux-x86_64-3.7/usr/local/lib/python3.7/dist-packages/mujoco_py/gl\n",
            "x86_64-linux-gnu-gcc -pthread -Wno-unused-result -Wsign-compare -DNDEBUG -g -fwrapv -O2 -Wall -g -fdebug-prefix-map=/build/python3.7-pX47U3/python3.7-3.7.12=. -fstack-protector-strong -Wformat -Werror=format-security -g -fdebug-prefix-map=/build/python3.7-pX47U3/python3.7-3.7.12=. -fstack-protector-strong -Wformat -Werror=format-security -Wdate-time -D_FORTIFY_SOURCE=2 -fPIC -I/usr/local/lib/python3.7/dist-packages/mujoco_py -I/usr/local/lib/python3.7/dist-packages/mujoco_py/binaries/linux/mujoco210/include -I/usr/local/lib/python3.7/dist-packages/numpy/core/include -I/usr/include/python3.7m -c /usr/local/lib/python3.7/dist-packages/mujoco_py/cymj.c -o /usr/local/lib/python3.7/dist-packages/mujoco_py/generated/_pyxbld_2.0.2.13_37_linuxcpuextensionbuilder/temp.linux-x86_64-3.7/usr/local/lib/python3.7/dist-packages/mujoco_py/cymj.o -fopenmp -w\n",
            "x86_64-linux-gnu-gcc -pthread -Wno-unused-result -Wsign-compare -DNDEBUG -g -fwrapv -O2 -Wall -g -fdebug-prefix-map=/build/python3.7-pX47U3/python3.7-3.7.12=. -fstack-protector-strong -Wformat -Werror=format-security -g -fdebug-prefix-map=/build/python3.7-pX47U3/python3.7-3.7.12=. -fstack-protector-strong -Wformat -Werror=format-security -Wdate-time -D_FORTIFY_SOURCE=2 -fPIC -I/usr/local/lib/python3.7/dist-packages/mujoco_py -I/usr/local/lib/python3.7/dist-packages/mujoco_py/binaries/linux/mujoco210/include -I/usr/local/lib/python3.7/dist-packages/numpy/core/include -I/usr/include/python3.7m -c /usr/local/lib/python3.7/dist-packages/mujoco_py/gl/osmesashim.c -o /usr/local/lib/python3.7/dist-packages/mujoco_py/generated/_pyxbld_2.0.2.13_37_linuxcpuextensionbuilder/temp.linux-x86_64-3.7/usr/local/lib/python3.7/dist-packages/mujoco_py/gl/osmesashim.o -fopenmp -w\n",
            "creating /usr/local/lib/python3.7/dist-packages/mujoco_py/generated/_pyxbld_2.0.2.13_37_linuxcpuextensionbuilder/lib.linux-x86_64-3.7\n",
            "creating /usr/local/lib/python3.7/dist-packages/mujoco_py/generated/_pyxbld_2.0.2.13_37_linuxcpuextensionbuilder/lib.linux-x86_64-3.7/mujoco_py\n",
            "x86_64-linux-gnu-gcc -pthread -shared -Wl,-O1 -Wl,-Bsymbolic-functions -Wl,-Bsymbolic-functions -Wl,-z,relro -Wl,-Bsymbolic-functions -Wl,-z,relro -g -fdebug-prefix-map=/build/python3.7-pX47U3/python3.7-3.7.12=. -fstack-protector-strong -Wformat -Werror=format-security -Wdate-time -D_FORTIFY_SOURCE=2 /usr/local/lib/python3.7/dist-packages/mujoco_py/generated/_pyxbld_2.0.2.13_37_linuxcpuextensionbuilder/temp.linux-x86_64-3.7/usr/local/lib/python3.7/dist-packages/mujoco_py/cymj.o /usr/local/lib/python3.7/dist-packages/mujoco_py/generated/_pyxbld_2.0.2.13_37_linuxcpuextensionbuilder/temp.linux-x86_64-3.7/usr/local/lib/python3.7/dist-packages/mujoco_py/gl/osmesashim.o -L/usr/local/lib/python3.7/dist-packages/mujoco_py/binaries/linux/mujoco210/bin -Wl,--enable-new-dtags,-R/usr/local/lib/python3.7/dist-packages/mujoco_py/binaries/linux/mujoco210/bin -lmujoco210 -lglewosmesa -lOSMesa -lGL -o /usr/local/lib/python3.7/dist-packages/mujoco_py/generated/_pyxbld_2.0.2.13_37_linuxcpuextensionbuilder/lib.linux-x86_64-3.7/mujoco_py/cymj.cpython-37m-x86_64-linux-gnu.so -fopenmp\n",
            "Loading video...\n"
          ]
        },
        {
          "output_type": "display_data",
          "data": {
            "text/html": [
              "<video alt=\"test\" autoplay \n",
              "                loop controls style=\"height: 400px;\">\n",
              "                <source src=\"data:video/mp4;base64,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\" type=\"video/mp4\" />\n",
              "             </video>"
            ],
            "text/plain": [
              "<IPython.core.display.HTML object>"
            ]
          },
          "metadata": {}
        }
      ],
      "metadata": {
        "id": "2rsWAWaK9BVp",
        "colab": {
          "base_uri": "https://localhost:8080/",
          "height": 1000
        },
        "outputId": "0e55d4ab-bef4-45ab-83a2-39df2fb324c8"
      }
    },
    {
      "cell_type": "markdown",
      "source": [
        "## Editing Code\n",
        "\n",
        "To edit code, click the folder icon on the left menu. Navigate to the corresponding file (`cs285_f2021/...`). Double click a file to open an editor. There is a timeout of about ~12 hours with Colab while it is active (and less if you close your browser window). We sync your edits to Google Drive so that you won't lose your work in the event of an instance timeout, but you will need to re-mount your Google Drive and re-install packages with every new instance."
      ],
      "metadata": {
        "id": "QizpiHDh9Fwk"
      }
    },
    {
      "cell_type": "markdown",
      "source": [
        "## Run Actor Critic"
      ],
      "metadata": {
        "id": "J_OxQ1AZSyXC"
      }
    },
    {
      "cell_type": "code",
      "execution_count": 4,
      "source": [
        "#@title imports\n",
        "import os\n",
        "import time\n",
        "\n",
        "from cs285.agents.ac_agent import ACAgent\n",
        "from cs285.infrastructure.rl_trainer import RL_Trainer"
      ],
      "outputs": [],
      "metadata": {
        "id": "IzuN647wT9iJ"
      }
    },
    {
      "cell_type": "code",
      "execution_count": 5,
      "source": [
        "#@title runtime arguments\n",
        "\n",
        "class ACArgs:\n",
        "\n",
        "  def __getitem__(self, key):\n",
        "    return getattr(self, key)\n",
        "\n",
        "  def __setitem__(self, key, val):\n",
        "    setattr(self, key, val)\n",
        "\n",
        "  def __contains__(self, key):\n",
        "    return hasattr(self, key)\n",
        "\n",
        "  env_name = 'CartPole-v0' #@param ['CartPole-v0', 'InvertedPendulum-v2', 'HalfCheetah-v2']\n",
        "  exp_name = 'q4_ac' #@param\n",
        "\n",
        "  ## PDF will tell you how to set ep_len\n",
        "  ## and discount for each environment\n",
        "  ep_len = 200 #@param {type: \"integer\"}\n",
        "\n",
        "  #@markdown batches and steps\n",
        "  batch_size = 1000 #@param {type: \"integer\"}\n",
        "  eval_batch_size =  400#@param {type: \"integer\"}\n",
        "\n",
        "  n_iter = 100 #@param {type: \"integer\"}\n",
        "  num_agent_train_steps_per_iter = 1 #@param {type: \"integer\"}\n",
        "  num_actor_updates_per_agent_update = 1 #@param {type: \"integer\"}\n",
        "  num_critic_updates_per_agent_update = 1 #@param {type: \"integer\"}\n",
        "  \n",
        "  #@markdown Actor-Critic parameters\n",
        "  discount =  0.9#@param {type: \"number\"}\n",
        "  learning_rate = 5e-3 #@param {type: \"number\"}\n",
        "  dont_standardize_advantages = False #@param {type: \"boolean\"}\n",
        "  num_target_updates = 10 #@param {type: \"integer\"}\n",
        "  num_grad_steps_per_target_update = 10 #@param {type: \"integer\"}\n",
        "  n_layers = 2 #@param {type: \"integer\"}\n",
        "  size = 64 #@param {type: \"integer\"}\n",
        "\n",
        "  #@markdown system\n",
        "  save_params = False #@param {type: \"boolean\"}\n",
        "  no_gpu = False #@param {type: \"boolean\"}\n",
        "  which_gpu = 0 #@param {type: \"integer\"}\n",
        "  seed = 1 #@param {type: \"integer\"}\n",
        "\n",
        "  #@markdown logging\n",
        "  ## default is to not log video so\n",
        "  ## that logs are small enough to be\n",
        "  ## uploaded to gradscope\n",
        "  video_log_freq =  -1#@param {type: \"integer\"}\n",
        "  scalar_log_freq = 10 #@param {type: \"integer\"}\n",
        "\n",
        "\n",
        "args = ACArgs()\n",
        "\n",
        "\n",
        "if args['video_log_freq'] > 0:\n",
        "  import warnings\n",
        "  warnings.warn(\n",
        "      '''\\nLogging videos will make eventfiles too'''\n",
        "      '''\\nlarge for the autograder. Set video_log_freq = -1'''\n",
        "      '''\\nfor the runs you intend to submit.''')"
      ],
      "outputs": [],
      "metadata": {
        "id": "PQ9qWQu7TNb9"
      }
    },
    {
      "cell_type": "code",
      "execution_count": 6,
      "source": [
        "#@title Define AC trainer\n",
        "\n",
        "class AC_Trainer(object):\n",
        "\n",
        "    def __init__(self, params):\n",
        "\n",
        "        #####################\n",
        "        ## SET AGENT PARAMS\n",
        "        #####################\n",
        "\n",
        "        computation_graph_args = {\n",
        "            'n_layers': params['n_layers'],\n",
        "            'size': params['size'],\n",
        "            'learning_rate': params['learning_rate'],\n",
        "            'num_target_updates': params['num_target_updates'],\n",
        "            'num_grad_steps_per_target_update': params['num_grad_steps_per_target_update'],\n",
        "            }\n",
        "\n",
        "        estimate_advantage_args = {\n",
        "            'gamma': params['discount'],\n",
        "            'standardize_advantages': not(params['dont_standardize_advantages']),\n",
        "        }\n",
        "\n",
        "        train_args = {\n",
        "            'num_agent_train_steps_per_iter': params['num_agent_train_steps_per_iter'],\n",
        "            'num_critic_updates_per_agent_update': params['num_critic_updates_per_agent_update'],\n",
        "            'num_actor_updates_per_agent_update': params['num_actor_updates_per_agent_update'],\n",
        "        }\n",
        "\n",
        "        agent_params = {**computation_graph_args, **estimate_advantage_args, **train_args}\n",
        "\n",
        "        self.params = params\n",
        "        self.params['agent_class'] = ACAgent\n",
        "        self.params['agent_params'] = agent_params\n",
        "        self.params['train_batch_size'] = params['batch_size']\n",
        "        self.params['batch_size_initial'] = self.params['batch_size']\n",
        "        self.params['non_atari_colab_env'] = True\n",
        "\n",
        "        ################\n",
        "        ## RL TRAINER\n",
        "        ################\n",
        "\n",
        "        self.rl_trainer = RL_Trainer(self.params)\n",
        "\n",
        "    def run_training_loop(self):\n",
        "\n",
        "        self.rl_trainer.run_training_loop(\n",
        "            self.params['n_iter'],\n",
        "            collect_policy = self.rl_trainer.agent.actor,\n",
        "            eval_policy = self.rl_trainer.agent.actor,\n",
        "            )\n"
      ],
      "outputs": [],
      "metadata": {
        "id": "wqUVP5E5S1z8"
      }
    },
    {
      "cell_type": "code",
      "execution_count": null,
      "source": [
        "#@title create directories for logging\n",
        "\n",
        "data_path = '''/content/cs285_f2021/''' \\\n",
        "        '''homework_fall2021/hw3/data'''\n",
        "\n",
        "if not (os.path.exists(data_path)):\n",
        "    os.makedirs(data_path)\n",
        "\n",
        "logdir = args.exp_name + '_' + args.env_name + '_' + time.strftime(\"%d-%m-%Y_%H-%M-%S\")\n",
        "logdir = os.path.join(data_path, logdir)\n",
        "args['logdir'] = logdir\n",
        "if not(os.path.exists(logdir)):\n",
        "    os.makedirs(logdir)\n",
        "\n",
        "print(\"LOGGING TO: \", logdir)"
      ],
      "outputs": [],
      "metadata": {
        "id": "xuNw8N1jTg1p"
      }
    },
    {
      "cell_type": "code",
      "execution_count": null,
      "source": [
        "#@title run training\n",
        "trainer = AC_Trainer(args)\n",
        "trainer.run_training_loop()"
      ],
      "outputs": [],
      "metadata": {
        "id": "_IGogH9YTt1y"
      }
    },
    {
      "cell_type": "code",
      "execution_count": null,
      "source": [
        "#@markdown You can visualize your runs with tensorboard from within the notebook\n",
        "\n",
        "## requires tensorflow==2.3.0\n",
        "# %load_ext tensorboard\n",
        "%tensorboard --logdir /content/cs285_f2021/homework_fall2021/hw3/data/"
      ],
      "outputs": [],
      "metadata": {
        "id": "LjhrgXnUTzyi"
      }
    },
    {
      "cell_type": "code",
      "source": [
        "%cd cs285_f2021/VVV/hw3"
      ],
      "metadata": {
        "id": "-iRALMNRkCFD"
      },
      "execution_count": null,
      "outputs": []
    },
    {
      "cell_type": "markdown",
      "source": [
        "# Question 1: Basic Q-learning performance"
      ],
      "metadata": {
        "id": "P99ou6r5jgdN"
      }
    },
    {
      "cell_type": "code",
      "source": [
        "!python cs285/scripts/run_hw3_dqn.py --env_name MsPacman-v0 --exp_name q1"
      ],
      "metadata": {
        "id": "yOv2QQdtji6n"
      },
      "execution_count": null,
      "outputs": []
    }
  ]
}